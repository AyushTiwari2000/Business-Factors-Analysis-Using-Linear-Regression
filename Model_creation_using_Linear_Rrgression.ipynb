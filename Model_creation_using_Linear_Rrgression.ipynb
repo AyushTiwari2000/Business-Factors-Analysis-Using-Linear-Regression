{
  "cells": [
    {
      "cell_type": "markdown",
      "id": "324e7567",
      "metadata": {
        "id": "324e7567"
      },
      "source": [
        "# ALGO_1. Linear Regression\n",
        "\n",
        "- Linear regression uses the relationship between the data-points to draw a straight line through all them.\n",
        "\n",
        "- This line can be used to predict future values.\n",
        "\n",
        "\n"
      ]
    },
    {
      "cell_type": "code",
      "execution_count": null,
      "id": "b1139c1b",
      "metadata": {
        "id": "b1139c1b"
      },
      "outputs": [],
      "source": [
        "#necesary imports\n",
        "import pandas as pd\n",
        "import matplotlib.pyplot as plt\n",
        "%matplotlib inline\n",
        "import pickle"
      ]
    },
    {
      "cell_type": "code",
      "execution_count": null,
      "id": "491754f1",
      "metadata": {
        "id": "491754f1",
        "outputId": "dd6b85fb-9d1f-4c93-84f0-6e4a81dd12b6"
      },
      "outputs": [
        {
          "data": {
            "text/html": [
              "<div>\n",
              "<style scoped>\n",
              "    .dataframe tbody tr th:only-of-type {\n",
              "        vertical-align: middle;\n",
              "    }\n",
              "\n",
              "    .dataframe tbody tr th {\n",
              "        vertical-align: top;\n",
              "    }\n",
              "\n",
              "    .dataframe thead th {\n",
              "        text-align: right;\n",
              "    }\n",
              "</style>\n",
              "<table border=\"1\" class=\"dataframe\">\n",
              "  <thead>\n",
              "    <tr style=\"text-align: right;\">\n",
              "      <th></th>\n",
              "      <th>Unnamed: 0</th>\n",
              "      <th>TV</th>\n",
              "      <th>radio</th>\n",
              "      <th>newspaper</th>\n",
              "      <th>sales</th>\n",
              "    </tr>\n",
              "  </thead>\n",
              "  <tbody>\n",
              "    <tr>\n",
              "      <th>0</th>\n",
              "      <td>1</td>\n",
              "      <td>230.1</td>\n",
              "      <td>37.8</td>\n",
              "      <td>69.2</td>\n",
              "      <td>22.1</td>\n",
              "    </tr>\n",
              "    <tr>\n",
              "      <th>1</th>\n",
              "      <td>2</td>\n",
              "      <td>44.5</td>\n",
              "      <td>39.3</td>\n",
              "      <td>45.1</td>\n",
              "      <td>10.4</td>\n",
              "    </tr>\n",
              "    <tr>\n",
              "      <th>2</th>\n",
              "      <td>3</td>\n",
              "      <td>17.2</td>\n",
              "      <td>45.9</td>\n",
              "      <td>69.3</td>\n",
              "      <td>9.3</td>\n",
              "    </tr>\n",
              "    <tr>\n",
              "      <th>3</th>\n",
              "      <td>4</td>\n",
              "      <td>151.5</td>\n",
              "      <td>41.3</td>\n",
              "      <td>58.5</td>\n",
              "      <td>18.5</td>\n",
              "    </tr>\n",
              "    <tr>\n",
              "      <th>4</th>\n",
              "      <td>5</td>\n",
              "      <td>180.8</td>\n",
              "      <td>10.8</td>\n",
              "      <td>58.4</td>\n",
              "      <td>12.9</td>\n",
              "    </tr>\n",
              "  </tbody>\n",
              "</table>\n",
              "</div>"
            ],
            "text/plain": [
              "   Unnamed: 0     TV  radio  newspaper  sales\n",
              "0           1  230.1   37.8       69.2   22.1\n",
              "1           2   44.5   39.3       45.1   10.4\n",
              "2           3   17.2   45.9       69.3    9.3\n",
              "3           4  151.5   41.3       58.5   18.5\n",
              "4           5  180.8   10.8       58.4   12.9"
            ]
          },
          "execution_count": 2,
          "metadata": {},
          "output_type": "execute_result"
        }
      ],
      "source": [
        "data = pd.read_csv('1_Advertising 41.csv')\n",
        "data.head()"
      ]
    },
    {
      "cell_type": "code",
      "execution_count": null,
      "id": "14d17cff",
      "metadata": {
        "id": "14d17cff",
        "outputId": "d40fd2f9-dd8e-41cc-a95d-b710333c6445"
      },
      "outputs": [
        {
          "data": {
            "text/plain": [
              "(200, 5)"
            ]
          },
          "execution_count": 3,
          "metadata": {},
          "output_type": "execute_result"
        }
      ],
      "source": [
        "data.shape"
      ]
    },
    {
      "cell_type": "code",
      "execution_count": null,
      "id": "a9ba34b5",
      "metadata": {
        "id": "a9ba34b5",
        "outputId": "b62549ab-922c-49d5-f545-9e585c0bd76a"
      },
      "outputs": [
        {
          "name": "stdout",
          "output_type": "stream",
          "text": [
            "<class 'pandas.core.frame.DataFrame'>\n",
            "RangeIndex: 200 entries, 0 to 199\n",
            "Data columns (total 5 columns):\n",
            " #   Column      Non-Null Count  Dtype  \n",
            "---  ------      --------------  -----  \n",
            " 0   Unnamed: 0  200 non-null    int64  \n",
            " 1   TV          200 non-null    float64\n",
            " 2   radio       200 non-null    float64\n",
            " 3   newspaper   200 non-null    float64\n",
            " 4   sales       200 non-null    float64\n",
            "dtypes: float64(4), int64(1)\n",
            "memory usage: 7.9 KB\n"
          ]
        }
      ],
      "source": [
        "data.info() # print the summary of DataFrame"
      ]
    },
    {
      "cell_type": "code",
      "execution_count": null,
      "id": "8b31c2c6",
      "metadata": {
        "id": "8b31c2c6",
        "outputId": "7c0db645-a2f6-4ac5-ca66-a7cf837115ca"
      },
      "outputs": [
        {
          "data": {
            "text/plain": [
              "Unnamed: 0    0\n",
              "TV            0\n",
              "radio         0\n",
              "newspaper     0\n",
              "sales         0\n",
              "dtype: int64"
            ]
          },
          "execution_count": 5,
          "metadata": {},
          "output_type": "execute_result"
        }
      ],
      "source": [
        "data.isna().sum() # finding no. of NaNs in DataFrame"
      ]
    },
    {
      "cell_type": "markdown",
      "id": "2857ffe6",
      "metadata": {
        "id": "2857ffe6"
      },
      "source": [
        "**Now, Let's see the relationship between the feature and targeted column (CORRELATION)**"
      ]
    },
    {
      "cell_type": "code",
      "execution_count": null,
      "id": "dafacd38",
      "metadata": {
        "id": "dafacd38",
        "outputId": "df96c124-0d95-4c24-fe29-3053eafd300a"
      },
      "outputs": [
        {
          "data": {
            "image/png": "[encoded data removed]",
            "text/plain": [
              "<Figure size 1080x648 with 3 Axes>"
            ]
          },
          "metadata": {
            "needs_background": "light"
          },
          "output_type": "display_data"
        }
      ],
      "source": [
        "# Visualize the relationship between the features and targeted column using 'Scatter plot':\n",
        "\n",
        "fig,axs = plt.subplots(1,3)\n",
        "\n",
        "data.plot(kind = 'scatter', x = 'TV', y = 'sales', ax = axs[1], figsize = (15,9))\n",
        "data.plot(kind = 'scatter', x = 'radio', y = 'sales', ax = axs[0])\n",
        "data.plot(kind = 'scatter', x = 'newspaper', y = 'sales', ax = axs[2])\n",
        "\n",
        "# optionally used for Saving the Visualization (into your system) purpose only.\n",
        "fig.savefig('testdata.jpg')"
      ]
    },
    {
      "cell_type": "markdown",
      "id": "fe1a7cdb",
      "metadata": {
        "id": "fe1a7cdb"
      },
      "source": [
        "**Observations from above scatter plot:-**\n",
        "- TV: Strong positive relationship.\n",
        "- Radio: Positive relationship.\n",
        "- Newspaper: Negative relationship."
      ]
    },
    {
      "cell_type": "markdown",
      "id": "cad077a4",
      "metadata": {
        "id": "cad077a4"
      },
      "source": [
        "**BEST FIT LINE:-** (good: If less residual)\n",
        "\n",
        "- x: input | y: prediction/output | **y = mx + b**\n",
        "- BEST FIT LINE must be **close to (or) covers most** of the data points of the plot.\n",
        "- find ***m = ?***\n",
        "- find ***b = ?***\n",
        "\n",
        "**Actual data - Predicted data = Residual value**"
      ]
    },
    {
      "cell_type": "markdown",
      "id": "d1e2cf61",
      "metadata": {
        "id": "d1e2cf61"
      },
      "source": [
        "### NOTE:\n",
        "- **to avoid value of residual becoming zero** we use to **square them and then add**.(**eliminates negative effect** on calculation)\n",
        "- **Gradient Descent :** learns and **reduces the Residual** to find best pattern."
      ]
    },
    {
      "cell_type": "code",
      "execution_count": null,
      "id": "0c2722e2",
      "metadata": {
        "id": "0c2722e2",
        "outputId": "d2301e6a-b647-4fe4-ae48-a90882b4bd15"
      },
      "outputs": [
        {
          "data": {
            "text/html": [
              "<style>#sk-container-id-1 {color: black;background-color: white;}#sk-container-id-1 pre{padding: 0;}#sk-container-id-1 div.sk-toggleable {background-color: white;}#sk-container-id-1 label.sk-toggleable__label {cursor: pointer;display: block;width: 100%;margin-bottom: 0;padding: 0.3em;box-sizing: border-box;text-align: center;}#sk-container-id-1 label.sk-toggleable__label-arrow:before {content: \"▸\";float: left;margin-right: 0.25em;color: #696969;}#sk-container-id-1 label.sk-toggleable__label-arrow:hover:before {color: black;}#sk-container-id-1 div.sk-estimator:hover label.sk-toggleable__label-arrow:before {color: black;}#sk-container-id-1 div.sk-toggleable__content {max-height: 0;max-width: 0;overflow: hidden;text-align: left;background-color: #f0f8ff;}#sk-container-id-1 div.sk-toggleable__content pre {margin: 0.2em;color: black;border-radius: 0.25em;background-color: #f0f8ff;}#sk-container-id-1 input.sk-toggleable__control:checked~div.sk-toggleable__content {max-height: 200px;max-width: 100%;overflow: auto;}#sk-container-id-1 input.sk-toggleable__control:checked~label.sk-toggleable__label-arrow:before {content: \"▾\";}#sk-container-id-1 div.sk-estimator input.sk-toggleable__control:checked~label.sk-toggleable__label {background-color: #d4ebff;}#sk-container-id-1 div.sk-label input.sk-toggleable__control:checked~label.sk-toggleable__label {background-color: #d4ebff;}#sk-container-id-1 input.sk-hidden--visually {border: 0;clip: rect(1px 1px 1px 1px);clip: rect(1px, 1px, 1px, 1px);height: 1px;margin: -1px;overflow: hidden;padding: 0;position: absolute;width: 1px;}#sk-container-id-1 div.sk-estimator {font-family: monospace;background-color: #f0f8ff;border: 1px dotted black;border-radius: 0.25em;box-sizing: border-box;margin-bottom: 0.5em;}#sk-container-id-1 div.sk-estimator:hover {background-color: #d4ebff;}#sk-container-id-1 div.sk-parallel-item::after {content: \"\";width: 100%;border-bottom: 1px solid gray;flex-grow: 1;}#sk-container-id-1 div.sk-label:hover label.sk-toggleable__label {background-color: #d4ebff;}#sk-container-id-1 div.sk-serial::before {content: \"\";position: absolute;border-left: 1px solid gray;box-sizing: border-box;top: 0;bottom: 0;left: 50%;z-index: 0;}#sk-container-id-1 div.sk-serial {display: flex;flex-direction: column;align-items: center;background-color: white;padding-right: 0.2em;padding-left: 0.2em;position: relative;}#sk-container-id-1 div.sk-item {position: relative;z-index: 1;}#sk-container-id-1 div.sk-parallel {display: flex;align-items: stretch;justify-content: center;background-color: white;position: relative;}#sk-container-id-1 div.sk-item::before, #sk-container-id-1 div.sk-parallel-item::before {content: \"\";position: absolute;border-left: 1px solid gray;box-sizing: border-box;top: 0;bottom: 0;left: 50%;z-index: -1;}#sk-container-id-1 div.sk-parallel-item {display: flex;flex-direction: column;z-index: 1;position: relative;background-color: white;}#sk-container-id-1 div.sk-parallel-item:first-child::after {align-self: flex-end;width: 50%;}#sk-container-id-1 div.sk-parallel-item:last-child::after {align-self: flex-start;width: 50%;}#sk-container-id-1 div.sk-parallel-item:only-child::after {width: 0;}#sk-container-id-1 div.sk-dashed-wrapped {border: 1px dashed gray;margin: 0 0.4em 0.5em 0.4em;box-sizing: border-box;padding-bottom: 0.4em;background-color: white;}#sk-container-id-1 div.sk-label label {font-family: monospace;font-weight: bold;display: inline-block;line-height: 1.2em;}#sk-container-id-1 div.sk-label-container {text-align: center;}#sk-container-id-1 div.sk-container {/* jupyter's `normalize.less` sets `[hidden] { display: none; }` but bootstrap.min.css set `[hidden] { display: none !important; }` so we also need the `!important` here to be able to override the default hidden behavior on the sphinx rendered scikit-learn.org. See: https://github.com/scikit-learn/scikit-learn/issues/21755 */display: inline-block !important;position: relative;}#sk-container-id-1 div.sk-text-repr-fallback {display: none;}</style><div id=\"sk-container-id-1\" class=\"sk-top-container\"><div class=\"sk-text-repr-fallback\"><pre>LinearRegression()</pre><b>In a Jupyter environment, please rerun this cell to show the HTML representation or trust the notebook. <br />On GitHub, the HTML representation is unable to render, please try loading this page with nbviewer.org.</b></div><div class=\"sk-container\" hidden><div class=\"sk-item\"><div class=\"sk-estimator sk-toggleable\"><input class=\"sk-toggleable__control sk-hidden--visually\" id=\"sk-estimator-id-1\" type=\"checkbox\" checked><label for=\"sk-estimator-id-1\" class=\"sk-toggleable__label sk-toggleable__label-arrow\">LinearRegression</label><div class=\"sk-toggleable__content\"><pre>LinearRegression()</pre></div></div></div></div></div>"
            ],
            "text/plain": [
              "LinearRegression()"
            ]
          },
          "execution_count": 7,
          "metadata": {},
          "output_type": "execute_result"
        }
      ],
      "source": [
        "# SLR as 1feature and 1 label\n",
        "#create X = feature & Y = Label\n",
        "X = data[['TV']]\n",
        "Y = data.sales # Y : Actual Value.\n",
        "\n",
        "# follow the usual sklearn pattern: import, instantiate, fit\n",
        "\n",
        "from sklearn.linear_model import LinearRegression # import\n",
        "lm = LinearRegression() # instantiate\n",
        "lm.fit(X,Y) # .fit : used to train the model."
      ]
    },
    {
      "cell_type": "code",
      "execution_count": null,
      "id": "a4f3e361",
      "metadata": {
        "id": "a4f3e361"
      },
      "outputs": [],
      "source": [
        "# print intercept(constant) & Coefficient(slope):"
      ]
    },
    {
      "cell_type": "code",
      "execution_count": null,
      "id": "e2dd2121",
      "metadata": {
        "id": "e2dd2121",
        "outputId": "b8427c9f-ec91-4e2b-bbe0-394993ddc90f"
      },
      "outputs": [
        {
          "name": "stdout",
          "output_type": "stream",
          "text": [
            "7.032593549127693\n"
          ]
        }
      ],
      "source": [
        "print(lm.intercept_) # b: intercept of y-axis"
      ]
    },
    {
      "cell_type": "code",
      "execution_count": null,
      "id": "62d1e1e9",
      "metadata": {
        "id": "62d1e1e9",
        "outputId": "5b825d30-15df-4f10-890c-5ceda07200bf"
      },
      "outputs": [
        {
          "name": "stdout",
          "output_type": "stream",
          "text": [
            "[0.04753664]\n"
          ]
        }
      ],
      "source": [
        "print(lm.coef_) # (Coefficient of x (or) slope: TV = 0.04753664 * sales"
      ]
    },
    {
      "cell_type": "code",
      "execution_count": null,
      "id": "1ca37d59",
      "metadata": {
        "id": "1ca37d59"
      },
      "outputs": [],
      "source": [
        "# Beta1 = slope = coef_ of x\n",
        "\n",
        "# ONE Unit increase wrt sales is called Coef"
      ]
    },
    {
      "cell_type": "code",
      "execution_count": null,
      "id": "9cd05950",
      "metadata": {
        "id": "9cd05950",
        "outputId": "9e2d145c-1b1b-4f10-a7e8-a7f336a2662d"
      },
      "outputs": [
        {
          "data": {
            "text/plain": [
              "array([9.40942557])"
            ]
          },
          "execution_count": 12,
          "metadata": {},
          "output_type": "execute_result"
        }
      ],
      "source": [
        "# calculate the prediction if expence on TV ad is $50k=x.\n",
        "y = lm.coef_ *50 + lm.intercept_\n",
        "y"
      ]
    },
    {
      "cell_type": "code",
      "execution_count": null,
      "id": "7b833a18",
      "metadata": {
        "id": "7b833a18",
        "outputId": "6cac6a9a-5767-4a12-a7aa-5e5e0c10df9c"
      },
      "outputs": [
        {
          "data": {
            "text/plain": [
              "9.409444"
            ]
          },
          "execution_count": 13,
          "metadata": {},
          "output_type": "execute_result"
        }
      ],
      "source": [
        "# calculate the prediction if expence on TV ad is $50k.\n",
        "y = 0.047537*50 + 7.032594\n",
        "y"
      ]
    },
    {
      "cell_type": "markdown",
      "id": "7b3fb00d",
      "metadata": {
        "id": "7b3fb00d"
      },
      "source": [
        "Thus, we can predict sales of **9409 units** in that market.\n",
        "\n",
        "Let's do the same using code."
      ]
    },
    {
      "cell_type": "code",
      "execution_count": null,
      "id": "fabcf5ec",
      "metadata": {
        "id": "fabcf5ec"
      },
      "outputs": [],
      "source": [
        "# creating DataFrame, if $50k is expended on TV ad.\n",
        "#X_new = pd.DataFrame({'TV': [50]}) # expence on TV ad is $50k.\n",
        "#X_new"
      ]
    },
    {
      "cell_type": "code",
      "execution_count": null,
      "id": "16011b8b",
      "metadata": {
        "id": "16011b8b",
        "outputId": "9d628d15-1648-42cb-d25c-4ee25ad0c98e"
      },
      "outputs": [
        {
          "name": "stderr",
          "output_type": "stream",
          "text": [
            "C:\\Users\\Lenovo\\anaconda3\\lib\\site-packages\\sklearn\\base.py:450: UserWarning: X does not have valid feature names, but LinearRegression was fitted with feature names\n",
            "  warnings.warn(\n"
          ]
        },
        {
          "data": {
            "text/plain": [
              "array([9.40942557])"
            ]
          },
          "execution_count": 15,
          "metadata": {},
          "output_type": "execute_result"
        }
      ],
      "source": [
        "# use the model to predict new value.\n",
        "lm.predict([[50]])"
      ]
    },
    {
      "cell_type": "code",
      "execution_count": null,
      "id": "033b5e24",
      "metadata": {
        "id": "033b5e24"
      },
      "outputs": [],
      "source": [
        "import warnings # Filtering warnings\n",
        "warnings.filterwarnings('ignore')"
      ]
    },
    {
      "cell_type": "code",
      "execution_count": null,
      "id": "3378bae5",
      "metadata": {
        "id": "3378bae5",
        "outputId": "d50f6937-5998-4b3d-faf8-1ea5c772fd75"
      },
      "outputs": [
        {
          "data": {
            "text/plain": [
              "array([9.40942557])"
            ]
          },
          "execution_count": 17,
          "metadata": {},
          "output_type": "execute_result"
        }
      ],
      "source": [
        "# use the model to predict new value.\n",
        "lm.predict([[50]])"
      ]
    },
    {
      "cell_type": "code",
      "execution_count": null,
      "id": "3fe3d73f",
      "metadata": {
        "id": "3fe3d73f"
      },
      "outputs": [],
      "source": [
        "# calculated prediction (if expence on TV ad is $50k) is 61% correct.(to be studied thereafter)\n",
        "# 61% -> r2_score"
      ]
    },
    {
      "cell_type": "markdown",
      "id": "e82653dd",
      "metadata": {
        "id": "e82653dd"
      },
      "source": [
        "## How Least Squares Line changes, based on input data (Demo only)\n",
        "\n",
        "- www.desmos.com/calculator/jwquvmikhr"
      ]
    },
    {
      "cell_type": "markdown",
      "id": "44c14a56",
      "metadata": {
        "id": "44c14a56"
      },
      "source": [
        "# MODEL CONFIDENCE"
      ]
    },
    {
      "cell_type": "markdown",
      "id": "2de1867e",
      "metadata": {
        "id": "2de1867e"
      },
      "source": [
        "**How well does the Model Fit the Data ?**\n",
        "- how well system learns or trains itself (to predict) on percentage basis.\n"
      ]
    },
    {
      "cell_type": "markdown",
      "id": "7a152e22",
      "metadata": {
        "id": "7a152e22"
      },
      "source": [
        "**R^2 statistics**\n"
      ]
    },
    {
      "cell_type": "markdown",
      "id": "3bd911ef",
      "metadata": {
        "id": "3bd911ef"
      },
      "source": [
        "- The closer the value of R^2 wrt 1, the better the model fits our data. If R^2 comes below Zero(which is a possibility) that means the model is so bad, that it is performing even worse than the average best fit line."
      ]
    },
    {
      "cell_type": "markdown",
      "id": "a9423d60",
      "metadata": {
        "id": "a9423d60"
      },
      "source": [
        "**Metric to check model performance (r2_score)**\n",
        "- Metric: Evaluating tools or techniques performance , E.g.: R^2 statistics(one of the tools)."
      ]
    },
    {
      "cell_type": "code",
      "execution_count": null,
      "id": "872fa105",
      "metadata": {
        "id": "872fa105"
      },
      "outputs": [],
      "source": [
        "from sklearn.metrics import r2_score"
      ]
    },
    {
      "cell_type": "code",
      "execution_count": null,
      "id": "24660850",
      "metadata": {
        "id": "24660850",
        "outputId": "30ac0b2d-43ed-4bd5-87d9-676639ee7c20"
      },
      "outputs": [
        {
          "data": {
            "text/html": [
              "<div>\n",
              "<style scoped>\n",
              "    .dataframe tbody tr th:only-of-type {\n",
              "        vertical-align: middle;\n",
              "    }\n",
              "\n",
              "    .dataframe tbody tr th {\n",
              "        vertical-align: top;\n",
              "    }\n",
              "\n",
              "    .dataframe thead th {\n",
              "        text-align: right;\n",
              "    }\n",
              "</style>\n",
              "<table border=\"1\" class=\"dataframe\">\n",
              "  <thead>\n",
              "    <tr style=\"text-align: right;\">\n",
              "      <th></th>\n",
              "      <th>TV</th>\n",
              "    </tr>\n",
              "  </thead>\n",
              "  <tbody>\n",
              "    <tr>\n",
              "      <th>0</th>\n",
              "      <td>230.1</td>\n",
              "    </tr>\n",
              "    <tr>\n",
              "      <th>1</th>\n",
              "      <td>44.5</td>\n",
              "    </tr>\n",
              "    <tr>\n",
              "      <th>2</th>\n",
              "      <td>17.2</td>\n",
              "    </tr>\n",
              "  </tbody>\n",
              "</table>\n",
              "</div>"
            ],
            "text/plain": [
              "      TV\n",
              "0  230.1\n",
              "1   44.5\n",
              "2   17.2"
            ]
          },
          "execution_count": 20,
          "metadata": {},
          "output_type": "execute_result"
        }
      ],
      "source": [
        "X.head(3) # X = feature(TV)-- \"x\""
      ]
    },
    {
      "cell_type": "code",
      "execution_count": null,
      "id": "f112f218",
      "metadata": {
        "scrolled": true,
        "id": "f112f218",
        "outputId": "33eb7f61-132f-4403-d7e1-9fed1c12f6a9"
      },
      "outputs": [
        {
          "data": {
            "text/plain": [
              "0    22.1\n",
              "1    10.4\n",
              "2     9.3\n",
              "Name: sales, dtype: float64"
            ]
          },
          "execution_count": 21,
          "metadata": {},
          "output_type": "execute_result"
        }
      ],
      "source": [
        "Y.head(3) # Y: Actual value(Sales)-- \"y\""
      ]
    },
    {
      "cell_type": "code",
      "execution_count": null,
      "id": "6c93f07e",
      "metadata": {
        "id": "6c93f07e",
        "outputId": "664d4729-0b73-42d5-d953-e0184774a87a"
      },
      "outputs": [
        {
          "data": {
            "text/html": [
              "<div>\n",
              "<style scoped>\n",
              "    .dataframe tbody tr th:only-of-type {\n",
              "        vertical-align: middle;\n",
              "    }\n",
              "\n",
              "    .dataframe tbody tr th {\n",
              "        vertical-align: top;\n",
              "    }\n",
              "\n",
              "    .dataframe thead th {\n",
              "        text-align: right;\n",
              "    }\n",
              "</style>\n",
              "<table border=\"1\" class=\"dataframe\">\n",
              "  <thead>\n",
              "    <tr style=\"text-align: right;\">\n",
              "      <th></th>\n",
              "      <th>0</th>\n",
              "    </tr>\n",
              "  </thead>\n",
              "  <tbody>\n",
              "    <tr>\n",
              "      <th>0</th>\n",
              "      <td>17.970775</td>\n",
              "    </tr>\n",
              "    <tr>\n",
              "      <th>1</th>\n",
              "      <td>9.147974</td>\n",
              "    </tr>\n",
              "    <tr>\n",
              "      <th>2</th>\n",
              "      <td>7.850224</td>\n",
              "    </tr>\n",
              "    <tr>\n",
              "      <th>3</th>\n",
              "      <td>14.234395</td>\n",
              "    </tr>\n",
              "    <tr>\n",
              "      <th>4</th>\n",
              "      <td>15.627218</td>\n",
              "    </tr>\n",
              "  </tbody>\n",
              "</table>\n",
              "</div>"
            ],
            "text/plain": [
              "           0\n",
              "0  17.970775\n",
              "1   9.147974\n",
              "2   7.850224\n",
              "3  14.234395\n",
              "4  15.627218"
            ]
          },
          "execution_count": 22,
          "metadata": {},
          "output_type": "execute_result"
        }
      ],
      "source": [
        "# pass all tv records and predict sales due to TV ads only.\n",
        "\n",
        "predicted_sales_TV = lm.predict(X) # PREDICTED VALUES-- \"y(hat)\"\n",
        "\n",
        "predicted_sales_TV = pd.DataFrame(predicted_sales_TV)\n",
        "predicted_sales_TV.head()\n",
        "# Y^: Predicted value(predicted_sales_TV),"
      ]
    },
    {
      "cell_type": "code",
      "execution_count": null,
      "id": "edccb4cf",
      "metadata": {
        "id": "edccb4cf",
        "outputId": "f1f4f10d-174c-4cf8-e351-73eac7228a0a"
      },
      "outputs": [
        {
          "data": {
            "text/plain": [
              "0.611875050850071"
            ]
          },
          "execution_count": 23,
          "metadata": {},
          "output_type": "execute_result"
        }
      ],
      "source": [
        "# Let's compare original sales numbers (Y) with our model predicted sales (Y^).\n",
        "\n",
        "r2_score(y_true = Y, y_pred = predicted_sales_TV)"
      ]
    },
    {
      "cell_type": "markdown",
      "id": "30d4b20a",
      "metadata": {
        "id": "30d4b20a"
      },
      "source": [
        "- Our Model's prediction is 61% correct.\n",
        "\n",
        "- Earlier, calculated prediction (if expence on TV ad is $50k) is also 61% correct."
      ]
    },
    {
      "cell_type": "markdown",
      "id": "6df42fe7",
      "metadata": {
        "id": "6df42fe7"
      },
      "source": [
        "**Simple Linear Regression:** only one feature used to predict.(like till here on 'TV' is used).***--R^2***\n",
        "\n",
        "**Multiple Linear Regression:** more than 1 feature is used for prediction. (like from here on 'TV, Radio & News Paper' will be used).***--Adjusted R^2 statistics***"
      ]
    },
    {
      "cell_type": "markdown",
      "id": "2b0bb94b",
      "metadata": {
        "id": "2b0bb94b"
      },
      "source": [
        "**Adjusted R^2 statistics:** (pulls down the values of R^2 statistics)\n"
      ]
    },
    {
      "cell_type": "code",
      "execution_count": null,
      "id": "f3fab83c",
      "metadata": {
        "id": "f3fab83c"
      },
      "outputs": [],
      "source": [
        "# N= No. of Rows or Samples\n",
        "# P= No. of Columns or features or predictions.\n",
        "\n",
        "#- -> .shape-> (no. of rows, no. of columns)"
      ]
    },
    {
      "cell_type": "code",
      "execution_count": null,
      "id": "681f4773",
      "metadata": {
        "id": "681f4773",
        "outputId": "d2601141-1c71-410e-f638-9cbee0cdc121"
      },
      "outputs": [
        {
          "data": {
            "text/html": [
              "<style>#sk-container-id-2 {color: black;background-color: white;}#sk-container-id-2 pre{padding: 0;}#sk-container-id-2 div.sk-toggleable {background-color: white;}#sk-container-id-2 label.sk-toggleable__label {cursor: pointer;display: block;width: 100%;margin-bottom: 0;padding: 0.3em;box-sizing: border-box;text-align: center;}#sk-container-id-2 label.sk-toggleable__label-arrow:before {content: \"▸\";float: left;margin-right: 0.25em;color: #696969;}#sk-container-id-2 label.sk-toggleable__label-arrow:hover:before {color: black;}#sk-container-id-2 div.sk-estimator:hover label.sk-toggleable__label-arrow:before {color: black;}#sk-container-id-2 div.sk-toggleable__content {max-height: 0;max-width: 0;overflow: hidden;text-align: left;background-color: #f0f8ff;}#sk-container-id-2 div.sk-toggleable__content pre {margin: 0.2em;color: black;border-radius: 0.25em;background-color: #f0f8ff;}#sk-container-id-2 input.sk-toggleable__control:checked~div.sk-toggleable__content {max-height: 200px;max-width: 100%;overflow: auto;}#sk-container-id-2 input.sk-toggleable__control:checked~label.sk-toggleable__label-arrow:before {content: \"▾\";}#sk-container-id-2 div.sk-estimator input.sk-toggleable__control:checked~label.sk-toggleable__label {background-color: #d4ebff;}#sk-container-id-2 div.sk-label input.sk-toggleable__control:checked~label.sk-toggleable__label {background-color: #d4ebff;}#sk-container-id-2 input.sk-hidden--visually {border: 0;clip: rect(1px 1px 1px 1px);clip: rect(1px, 1px, 1px, 1px);height: 1px;margin: -1px;overflow: hidden;padding: 0;position: absolute;width: 1px;}#sk-container-id-2 div.sk-estimator {font-family: monospace;background-color: #f0f8ff;border: 1px dotted black;border-radius: 0.25em;box-sizing: border-box;margin-bottom: 0.5em;}#sk-container-id-2 div.sk-estimator:hover {background-color: #d4ebff;}#sk-container-id-2 div.sk-parallel-item::after {content: \"\";width: 100%;border-bottom: 1px solid gray;flex-grow: 1;}#sk-container-id-2 div.sk-label:hover label.sk-toggleable__label {background-color: #d4ebff;}#sk-container-id-2 div.sk-serial::before {content: \"\";position: absolute;border-left: 1px solid gray;box-sizing: border-box;top: 0;bottom: 0;left: 50%;z-index: 0;}#sk-container-id-2 div.sk-serial {display: flex;flex-direction: column;align-items: center;background-color: white;padding-right: 0.2em;padding-left: 0.2em;position: relative;}#sk-container-id-2 div.sk-item {position: relative;z-index: 1;}#sk-container-id-2 div.sk-parallel {display: flex;align-items: stretch;justify-content: center;background-color: white;position: relative;}#sk-container-id-2 div.sk-item::before, #sk-container-id-2 div.sk-parallel-item::before {content: \"\";position: absolute;border-left: 1px solid gray;box-sizing: border-box;top: 0;bottom: 0;left: 50%;z-index: -1;}#sk-container-id-2 div.sk-parallel-item {display: flex;flex-direction: column;z-index: 1;position: relative;background-color: white;}#sk-container-id-2 div.sk-parallel-item:first-child::after {align-self: flex-end;width: 50%;}#sk-container-id-2 div.sk-parallel-item:last-child::after {align-self: flex-start;width: 50%;}#sk-container-id-2 div.sk-parallel-item:only-child::after {width: 0;}#sk-container-id-2 div.sk-dashed-wrapped {border: 1px dashed gray;margin: 0 0.4em 0.5em 0.4em;box-sizing: border-box;padding-bottom: 0.4em;background-color: white;}#sk-container-id-2 div.sk-label label {font-family: monospace;font-weight: bold;display: inline-block;line-height: 1.2em;}#sk-container-id-2 div.sk-label-container {text-align: center;}#sk-container-id-2 div.sk-container {/* jupyter's `normalize.less` sets `[hidden] { display: none; }` but bootstrap.min.css set `[hidden] { display: none !important; }` so we also need the `!important` here to be able to override the default hidden behavior on the sphinx rendered scikit-learn.org. See: https://github.com/scikit-learn/scikit-learn/issues/21755 */display: inline-block !important;position: relative;}#sk-container-id-2 div.sk-text-repr-fallback {display: none;}</style><div id=\"sk-container-id-2\" class=\"sk-top-container\"><div class=\"sk-text-repr-fallback\"><pre>LinearRegression()</pre><b>In a Jupyter environment, please rerun this cell to show the HTML representation or trust the notebook. <br />On GitHub, the HTML representation is unable to render, please try loading this page with nbviewer.org.</b></div><div class=\"sk-container\" hidden><div class=\"sk-item\"><div class=\"sk-estimator sk-toggleable\"><input class=\"sk-toggleable__control sk-hidden--visually\" id=\"sk-estimator-id-2\" type=\"checkbox\" checked><label for=\"sk-estimator-id-2\" class=\"sk-toggleable__label sk-toggleable__label-arrow\">LinearRegression</label><div class=\"sk-toggleable__content\"><pre>LinearRegression()</pre></div></div></div></div></div>"
            ],
            "text/plain": [
              "LinearRegression()"
            ]
          },
          "execution_count": 25,
          "metadata": {},
          "output_type": "execute_result"
        }
      ],
      "source": [
        "# Create X & y.\n",
        "X = data[['TV','radio','newspaper']]\n",
        "y = data['sales']\n",
        "\n",
        "lm = LinearRegression() # Multiple Linear Regression\n",
        "lm.fit(X,y)"
      ]
    },
    {
      "cell_type": "code",
      "execution_count": null,
      "id": "4b2073f8",
      "metadata": {
        "id": "4b2073f8",
        "outputId": "84eb0355-c08d-4a66-a595-4c939d9e9400"
      },
      "outputs": [
        {
          "name": "stdout",
          "output_type": "stream",
          "text": [
            "Intercept : -> 2.9388893694594085\n",
            "TV : -> 0.045764645455397615\n",
            "radio : -> 0.18853001691820448\n",
            "newspaper : -> -0.0010374930424763007\n"
          ]
        }
      ],
      "source": [
        "# Print b & m (printing best fit line):\n",
        "\n",
        "print('Intercept : ->',lm.intercept_)\n",
        "print('TV : ->',lm.coef_[0])\n",
        "print('radio : ->',lm.coef_[1])\n",
        "print('newspaper : ->',lm.coef_[2])"
      ]
    },
    {
      "cell_type": "markdown",
      "id": "2e314c0f",
      "metadata": {
        "id": "2e314c0f"
      },
      "source": [
        "**observation:**\n",
        "- By \"increasing investment\" by 1Unit, the \"sales\" increased by that coef_."
      ]
    },
    {
      "cell_type": "markdown",
      "id": "93c57984",
      "metadata": {
        "id": "93c57984"
      },
      "source": [
        "**Observation:**\n",
        "\n",
        "- TV: Strong positive relationship.\n",
        "- Radio: Positive relationship.\n",
        "- Newspaper: Negative relationship."
      ]
    },
    {
      "cell_type": "markdown",
      "id": "d647e198",
      "metadata": {
        "id": "d647e198"
      },
      "source": [
        "## **Feature Selection**\n",
        "\n",
        "How do one can decide **which feature have to be included** in a linear model? Here's one idea:\n",
        "- Check if the R-squared value goes up when you add new predictors to the model."
      ]
    },
    {
      "cell_type": "code",
      "execution_count": null,
      "id": "108954ae",
      "metadata": {
        "id": "108954ae",
        "outputId": "bea419ff-f9be-4eba-fbce-4434d86de9b5"
      },
      "outputs": [
        {
          "data": {
            "text/plain": [
              "0.8971942610828956"
            ]
          },
          "execution_count": 27,
          "metadata": {},
          "output_type": "execute_result"
        }
      ],
      "source": [
        "#preparing data for R2_score on TV & Radio as we can see they are positively related (coef).\n",
        "X= data[['TV',\"radio\"]] # features\n",
        "y= data.sales # Labels\n",
        "\n",
        "# let's train the model\n",
        "lm.fit(X,y)\n",
        "\n",
        "# Check the R2_score.\n",
        "\n",
        "predicted_sales= lm.predict(X)\n",
        "r2_score(y,predicted_sales)"
      ]
    },
    {
      "cell_type": "code",
      "execution_count": null,
      "id": "f7188a82",
      "metadata": {
        "id": "f7188a82",
        "outputId": "d34ba000-fee2-46d1-9656-ad8abc6af44e"
      },
      "outputs": [
        {
          "data": {
            "text/plain": [
              "0.8972106381789522"
            ]
          },
          "execution_count": 28,
          "metadata": {},
          "output_type": "execute_result"
        }
      ],
      "source": [
        "#Let's do the same taking all the features.\n",
        "X= data[['TV',\"radio\",'newspaper']] # features\n",
        "y= data.sales # Labels\n",
        "\n",
        "# let's train the model\n",
        "lm.fit(X,y)\n",
        "\n",
        "# Check the R2_score.\n",
        "\n",
        "predicted_sales= lm.predict(X)\n",
        "r2_score(y,predicted_sales)"
      ]
    },
    {
      "cell_type": "markdown",
      "id": "37343ada",
      "metadata": {
        "id": "37343ada"
      },
      "source": [
        "**Observation**:\n",
        "- TV- 61%\n",
        "- TV+Radio- 89.719% ~ 89.72%\n",
        "- TV+Radio+newspaper- 89.721% ~ 89.72%\n",
        "- **Newspaper has very least contribution wrt our label.**"
      ]
    },
    {
      "cell_type": "code",
      "execution_count": null,
      "id": "b99a4975",
      "metadata": {
        "id": "b99a4975"
      },
      "outputs": [],
      "source": []
    },
    {
      "cell_type": "code",
      "execution_count": null,
      "id": "e636f1a7",
      "metadata": {
        "id": "e636f1a7"
      },
      "outputs": [],
      "source": []
    },
    {
      "cell_type": "code",
      "execution_count": null,
      "id": "b8ba18c1",
      "metadata": {
        "id": "b8ba18c1"
      },
      "outputs": [],
      "source": []
    },
    {
      "cell_type": "code",
      "execution_count": null,
      "id": "ff19abbf",
      "metadata": {
        "id": "ff19abbf"
      },
      "outputs": [],
      "source": []
    }
  ],
  "metadata": {
    "kernelspec": {
      "display_name": "Python 3 (ipykernel)",
      "language": "python",
      "name": "python3"
    },
    "language_info": {
      "codemirror_mode": {
        "name": "ipython",
        "version": 3
      },
      "file_extension": ".py",
      "mimetype": "text/x-python",
      "name": "python",
      "nbconvert_exporter": "python",
      "pygments_lexer": "ipython3",
      "version": "3.9.12"
    },
    "colab": {
      "provenance": []
    }
  },
  "nbformat": 4,
  "nbformat_minor": 5
}